{
 "cells": [
  {
   "cell_type": "markdown",
   "metadata": {
    "slideshow": {
     "slide_type": "subslide"
    }
   },
   "source": [
    "## Investigation Overview"
   ]
  },
  {
   "cell_type": "markdown",
   "metadata": {
    "slideshow": {
     "slide_type": "subslide"
    }
   },
   "source": [
    "In this presentation. Many visualizations on (Ford GoBike System Data characterics will be created to study their relationship on duration_sec The main characterics are start_time, end_time, start_station_name, end_station_name, start_station_name and, user_type , year-month ,start_station_latitude , start_station_longitude , end_station_latitude , end_station_longitude , is the most helpful features to help my go through the investigation part in our dataset"
   ]
  },
  {
   "cell_type": "markdown",
   "metadata": {
    "slideshow": {
     "slide_type": "subslide"
    }
   },
   "source": [
    "## Dataset Overview "
   ]
  },
  {
   "cell_type": "markdown",
   "metadata": {
    "slideshow": {
     "slide_type": "subslide"
    }
   },
   "source": [
    "There are 519700 bike in our dataset with 13 feature (duration_sec, start_time, end_time, start_station_id, start_station_name, start_station_latitude, start_station_longitude, end_station_id ,end_station_name, end_station_latitude, end_station_longitude, bike_id and, user_type), most of the variables are numeric, and some of them categorical variables."
   ]
  },
  {
   "cell_type": "code",
   "execution_count": 1,
   "metadata": {
    "slideshow": {
     "slide_type": "subslide"
    }
   },
   "outputs": [],
   "source": [
    "# import all packages and set plots to be embedded inline\n",
    "import numpy as np\n",
    "import pandas as pd\n",
    "import matplotlib.pyplot as plt\n",
    "import seaborn as sb\n",
    "import os\n",
    "import glob\n",
    "\n",
    "%matplotlib inline"
   ]
  },
  {
   "cell_type": "code",
   "execution_count": 2,
   "metadata": {
    "slideshow": {
     "slide_type": "subslide"
    }
   },
   "outputs": [
    {
     "name": "stdout",
     "output_type": "stream",
     "text": [
      "(519700, 13)\n"
     ]
    },
    {
     "data": {
      "text/html": [
       "<div>\n",
       "<style scoped>\n",
       "    .dataframe tbody tr th:only-of-type {\n",
       "        vertical-align: middle;\n",
       "    }\n",
       "\n",
       "    .dataframe tbody tr th {\n",
       "        vertical-align: top;\n",
       "    }\n",
       "\n",
       "    .dataframe thead th {\n",
       "        text-align: right;\n",
       "    }\n",
       "</style>\n",
       "<table border=\"1\" class=\"dataframe\">\n",
       "  <thead>\n",
       "    <tr style=\"text-align: right;\">\n",
       "      <th></th>\n",
       "      <th>duration_sec</th>\n",
       "      <th>start_time</th>\n",
       "      <th>end_time</th>\n",
       "      <th>start_station_id</th>\n",
       "      <th>start_station_name</th>\n",
       "      <th>start_station_latitude</th>\n",
       "      <th>start_station_longitude</th>\n",
       "      <th>end_station_id</th>\n",
       "      <th>end_station_name</th>\n",
       "      <th>end_station_latitude</th>\n",
       "      <th>end_station_longitude</th>\n",
       "      <th>bike_id</th>\n",
       "      <th>user_type</th>\n",
       "    </tr>\n",
       "  </thead>\n",
       "  <tbody>\n",
       "    <tr>\n",
       "      <th>227353</th>\n",
       "      <td>444</td>\n",
       "      <td>2017-10-19 09:40:03.3450</td>\n",
       "      <td>2017-10-19 09:47:28.1030</td>\n",
       "      <td>9</td>\n",
       "      <td>Broadway at Battery St</td>\n",
       "      <td>37.798572</td>\n",
       "      <td>-122.400869</td>\n",
       "      <td>22</td>\n",
       "      <td>Howard St at Beale St</td>\n",
       "      <td>37.789756</td>\n",
       "      <td>-122.394643</td>\n",
       "      <td>2906</td>\n",
       "      <td>Subscriber</td>\n",
       "    </tr>\n",
       "    <tr>\n",
       "      <th>275223</th>\n",
       "      <td>1420</td>\n",
       "      <td>2017-10-05 08:40:41.1280</td>\n",
       "      <td>2017-10-05 09:04:21.2630</td>\n",
       "      <td>106</td>\n",
       "      <td>Sanchez St at 17th St</td>\n",
       "      <td>37.763242</td>\n",
       "      <td>-122.430675</td>\n",
       "      <td>23</td>\n",
       "      <td>The Embarcadero at Steuart St</td>\n",
       "      <td>37.791464</td>\n",
       "      <td>-122.391034</td>\n",
       "      <td>3109</td>\n",
       "      <td>Customer</td>\n",
       "    </tr>\n",
       "    <tr>\n",
       "      <th>45360</th>\n",
       "      <td>958</td>\n",
       "      <td>2017-12-12 18:44:05.3030</td>\n",
       "      <td>2017-12-12 19:00:03.6790</td>\n",
       "      <td>81</td>\n",
       "      <td>Berry St at 4th St</td>\n",
       "      <td>37.775880</td>\n",
       "      <td>-122.393170</td>\n",
       "      <td>33</td>\n",
       "      <td>Golden Gate Ave at Hyde St</td>\n",
       "      <td>37.781650</td>\n",
       "      <td>-122.415408</td>\n",
       "      <td>1678</td>\n",
       "      <td>Subscriber</td>\n",
       "    </tr>\n",
       "    <tr>\n",
       "      <th>53911</th>\n",
       "      <td>505</td>\n",
       "      <td>2017-12-10 16:21:33.8390</td>\n",
       "      <td>2017-12-10 16:29:59.3150</td>\n",
       "      <td>6</td>\n",
       "      <td>The Embarcadero at Sansome St</td>\n",
       "      <td>37.804770</td>\n",
       "      <td>-122.403234</td>\n",
       "      <td>6</td>\n",
       "      <td>The Embarcadero at Sansome St</td>\n",
       "      <td>37.804770</td>\n",
       "      <td>-122.403234</td>\n",
       "      <td>840</td>\n",
       "      <td>Customer</td>\n",
       "    </tr>\n",
       "    <tr>\n",
       "      <th>73612</th>\n",
       "      <td>722</td>\n",
       "      <td>2017-12-05 08:27:52.9610</td>\n",
       "      <td>2017-12-05 08:39:55.8260</td>\n",
       "      <td>74</td>\n",
       "      <td>Laguna St at Hayes St</td>\n",
       "      <td>37.776435</td>\n",
       "      <td>-122.426244</td>\n",
       "      <td>19</td>\n",
       "      <td>Post St at Kearny St</td>\n",
       "      <td>37.788975</td>\n",
       "      <td>-122.403452</td>\n",
       "      <td>3269</td>\n",
       "      <td>Subscriber</td>\n",
       "    </tr>\n",
       "  </tbody>\n",
       "</table>\n",
       "</div>"
      ],
      "text/plain": [
       "        duration_sec                start_time                  end_time  \\\n",
       "227353           444  2017-10-19 09:40:03.3450  2017-10-19 09:47:28.1030   \n",
       "275223          1420  2017-10-05 08:40:41.1280  2017-10-05 09:04:21.2630   \n",
       "45360            958  2017-12-12 18:44:05.3030  2017-12-12 19:00:03.6790   \n",
       "53911            505  2017-12-10 16:21:33.8390  2017-12-10 16:29:59.3150   \n",
       "73612            722  2017-12-05 08:27:52.9610  2017-12-05 08:39:55.8260   \n",
       "\n",
       "        start_station_id             start_station_name  \\\n",
       "227353                 9         Broadway at Battery St   \n",
       "275223               106          Sanchez St at 17th St   \n",
       "45360                 81             Berry St at 4th St   \n",
       "53911                  6  The Embarcadero at Sansome St   \n",
       "73612                 74          Laguna St at Hayes St   \n",
       "\n",
       "        start_station_latitude  start_station_longitude  end_station_id  \\\n",
       "227353               37.798572              -122.400869              22   \n",
       "275223               37.763242              -122.430675              23   \n",
       "45360                37.775880              -122.393170              33   \n",
       "53911                37.804770              -122.403234               6   \n",
       "73612                37.776435              -122.426244              19   \n",
       "\n",
       "                     end_station_name  end_station_latitude  \\\n",
       "227353          Howard St at Beale St             37.789756   \n",
       "275223  The Embarcadero at Steuart St             37.791464   \n",
       "45360      Golden Gate Ave at Hyde St             37.781650   \n",
       "53911   The Embarcadero at Sansome St             37.804770   \n",
       "73612            Post St at Kearny St             37.788975   \n",
       "\n",
       "        end_station_longitude  bike_id   user_type  \n",
       "227353            -122.394643     2906  Subscriber  \n",
       "275223            -122.391034     3109    Customer  \n",
       "45360             -122.415408     1678  Subscriber  \n",
       "53911             -122.403234      840    Customer  \n",
       "73612             -122.403452     3269  Subscriber  "
      ]
     },
     "execution_count": 2,
     "metadata": {},
     "output_type": "execute_result"
    }
   ],
   "source": [
    "# append all trip data together\n",
    "\n",
    "folder_name = 'Data'\n",
    "frames = [pd.read_csv(f) for f in glob.glob(os.path.join(folder_name, '2017-fordgobike-tripdata.csv'))]\n",
    "fordgobike_2017 = pd.concat(frames, ignore_index=True)\n",
    "print(fordgobike_2017.shape)\n",
    "fordgobike_2017.sample(5)"
   ]
  },
  {
   "cell_type": "code",
   "execution_count": 3,
   "metadata": {
    "slideshow": {
     "slide_type": "subslide"
    }
   },
   "outputs": [],
   "source": [
    "#Change start_time and end_time from object AKA string to datetime\n",
    "fordgobike_2017['start_time'] = pd.to_datetime(fordgobike_2017['start_time'])\n",
    "fordgobike_2017['end_time'] = pd.to_datetime(fordgobike_2017['end_time'])\n",
    "\n",
    "#Change user_type from object AKA string to category \n",
    "fordgobike_2017['user_type'] = fordgobike_2017.user_type.astype('category')"
   ]
  },
  {
   "cell_type": "code",
   "execution_count": 4,
   "metadata": {
    "slideshow": {
     "slide_type": "subslide"
    }
   },
   "outputs": [
    {
     "data": {
      "text/plain": [
       "start_time    datetime64[ns]\n",
       "end_time      datetime64[ns]\n",
       "dtype: object"
      ]
     },
     "execution_count": 4,
     "metadata": {},
     "output_type": "execute_result"
    }
   ],
   "source": [
    "fordgobike_2017[['start_time', 'end_time']].dtypes"
   ]
  },
  {
   "cell_type": "code",
   "execution_count": 5,
   "metadata": {
    "slideshow": {
     "slide_type": "subslide"
    }
   },
   "outputs": [
    {
     "data": {
      "text/plain": [
       "274511    2017-10\n",
       "332586    2017-09\n",
       "488777    2017-07\n",
       "415644    2017-08\n",
       "96992     2017-11\n",
       "Name: year-month, dtype: period[M]"
      ]
     },
     "execution_count": 5,
     "metadata": {},
     "output_type": "execute_result"
    }
   ],
   "source": [
    "fordgobike_2017['year-month'] = pd.to_datetime(fordgobike_2017['start_time']).dt.to_period('M')\n",
    "fordgobike_2017['year-month'].sample(5)"
   ]
  },
  {
   "cell_type": "code",
   "execution_count": 6,
   "metadata": {
    "slideshow": {
     "slide_type": "subslide"
    }
   },
   "outputs": [],
   "source": [
    "fordgobike_2017['duration_min'] = fordgobike_2017['duration_sec'] // 60"
   ]
  },
  {
   "cell_type": "markdown",
   "metadata": {
    "slideshow": {
     "slide_type": "subslide"
    }
   },
   "source": [
    "### How long are people riding these bikes?"
   ]
  },
  {
   "cell_type": "code",
   "execution_count": 7,
   "metadata": {
    "slideshow": {
     "slide_type": "subslide"
    }
   },
   "outputs": [
    {
     "data": {
      "image/png": "[encoded data removed]",
      "text/plain": [
       "<Figure size 432x288 with 1 Axes>"
      ]
     },
     "metadata": {
      "needs_background": "light"
     },
     "output_type": "display_data"
    }
   ],
   "source": [
    "#Visualizing the data in a histogram\n",
    "duration_bins = np.arange(0, fordgobike_2017['duration_sec'].max() + 100, 100)\n",
    "plt.hist(data = fordgobike_2017, x = 'duration_sec', bins = duration_bins);\n",
    "\n",
    "plt.xlim(0, 2000);\n",
    "plt.title('Duration In Seconds', fontsize = 18);\n",
    "plt.xlabel('Duration of Rides in Seconds');\n",
    "plt.ylabel('Number of Rides');"
   ]
  },
  {
   "cell_type": "markdown",
   "metadata": {
    "slideshow": {
     "slide_type": "subslide"
    }
   },
   "source": [
    "#### Observation : \n",
    "As we can see in this analysis, we have a distribution of how much time people spend on the bikes, there are  some outliers in the high end and it skewed the data, so what I did is I put a limit of 2000 seconds, so it’s still right skewed , and as we can see the peak of people using them falls between 250-750 seconds range, or to be exact it’s almost 275 seconds, so that’s mean it’s nearly 4.5 minutes , so we can say that the people using the bikes mostly for quick rides"
   ]
  },
  {
   "cell_type": "markdown",
   "metadata": {
    "slideshow": {
     "slide_type": "subslide"
    }
   },
   "source": [
    "### relationship between (Customer) and (Subscriber)"
   ]
  },
  {
   "cell_type": "code",
   "execution_count": 8,
   "metadata": {
    "slideshow": {
     "slide_type": "subslide"
    }
   },
   "outputs": [
    {
     "data": {
      "image/png": "[encoded data removed]",
      "text/plain": [
       "<Figure size 360x360 with 1 Axes>"
      ]
     },
     "metadata": {
      "needs_background": "light"
     },
     "output_type": "display_data"
    }
   ],
   "source": [
    "sb.catplot(x=\"user_type\", y=\"duration_sec\", data=fordgobike_2017)\n",
    "plt.xlabel('Trip Duration')\n",
    "plt.ylabel('user_type');"
   ]
  },
  {
   "cell_type": "markdown",
   "metadata": {
    "slideshow": {
     "slide_type": "subslide"
    }
   },
   "source": [
    "#### Observation : \n",
    "in this chart we see the (Subscribers) often finish the race faster than the (Customers)"
   ]
  },
  {
   "cell_type": "markdown",
   "metadata": {
    "slideshow": {
     "slide_type": "subslide"
    }
   },
   "source": [
    "### 10 Most common places for starting and end a trip"
   ]
  },
  {
   "cell_type": "code",
   "execution_count": 9,
   "metadata": {
    "slideshow": {
     "slide_type": "subslide"
    }
   },
   "outputs": [
    {
     "data": {
      "image/png": "[encoded data removed]",
      "text/plain": [
       "<Figure size 432x288 with 1 Axes>"
      ]
     },
     "metadata": {
      "needs_background": "light"
     },
     "output_type": "display_data"
    }
   ],
   "source": [
    "top_names = fordgobike_2017.start_station_name.value_counts()[1:11].sort_values()\n",
    "df_color = sb.color_palette()[0]\n",
    "top_names.plot(kind = 'barh', color=df_color)\n",
    "plt.title('Top 10 starting point for the trips')\n",
    "plt.xlabel('Count')\n",
    "plt.ylabel('Name');"
   ]
  },
  {
   "cell_type": "markdown",
   "metadata": {
    "slideshow": {
     "slide_type": "subslide"
    }
   },
   "source": [
    " #### Observation : \n",
    "Most of the trips are initiated from The Embarcadero at Sansome St ."
   ]
  },
  {
   "cell_type": "markdown",
   "metadata": {
    "slideshow": {
     "slide_type": "subslide"
    }
   },
   "source": [
    "## duration_min vs year-month on each Customer and Subscriber"
   ]
  },
  {
   "cell_type": "code",
   "execution_count": 10,
   "metadata": {
    "slideshow": {
     "slide_type": "subslide"
    }
   },
   "outputs": [
    {
     "data": {
      "image/png": "[encoded data removed]",
      "text/plain": [
       "<Figure size 576x432 with 1 Axes>"
      ]
     },
     "metadata": {
      "needs_background": "light"
     },
     "output_type": "display_data"
    }
   ],
   "source": [
    "fig = plt.figure(figsize = [8,6])\n",
    "sb.pointplot(data = fordgobike_2017, x = 'year-month' , y = 'duration_min' , hue = 'user_type', palette = 'Reds', ci=None)\n",
    "plt.title('Trip duartion across user type in different months')\n",
    "plt.ylabel('Mean Trip Dduration (sec)')\n",
    "plt.xlabel('Months')\n",
    "plt.show();"
   ]
  },
  {
   "cell_type": "markdown",
   "metadata": {
    "slideshow": {
     "slide_type": "subslide"
    }
   },
   "source": [
    "##### Observation: \n",
    "Customers have more distance than the subscriber for all the month"
   ]
  }
 ],
 "metadata": {
  "celltoolbar": "Slideshow",
  "kernelspec": {
   "display_name": "Python 3",
   "language": "python",
   "name": "python3"
  },
  "language_info": {
   "codemirror_mode": {
    "name": "ipython",
    "version": 3
   },
   "file_extension": ".py",
   "mimetype": "text/x-python",
   "name": "python",
   "nbconvert_exporter": "python",
   "pygments_lexer": "ipython3",
   "version": "3.7.6"
  }
 },
 "nbformat": 4,
 "nbformat_minor": 4
}
